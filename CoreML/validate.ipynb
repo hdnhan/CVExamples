{
 "cells": [
  {
   "cell_type": "code",
   "execution_count": 1,
   "metadata": {},
   "outputs": [
    {
     "name": "stderr",
     "output_type": "stream",
     "text": [
      "scikit-learn version 1.4.1.post1 is not supported. Minimum required version: 0.17. Maximum required version: 1.1.2. Disabling scikit-learn conversion API.\n",
      "Torch version 2.4.0.dev20240331 has not been tested with coremltools. You may run into unexpected errors. Torch 2.1.0 is the most recent version that has been tested.\n"
     ]
    }
   ],
   "source": [
    "import numpy as np\n",
    "import coremltools as ct\n",
    "from PIL import Image\n",
    "\n",
    "input = np.loadtxt(\"src/input.txt\").reshape(640, 640, 3).astype(np.uint8)#.transpose(1, 2, 0)\n",
    "output = np.loadtxt(\"src/output.txt\").reshape(1, 84, 8400)\n",
    "\n",
    "model = ct.models.MLModel(\"/Users/nhan/dev/CVExamples/Assets/yolov8n.mlpackage\")\n",
    "model.compute_units = ct.ComputeUnit.ALL\n",
    "\n",
    "input_name = model.get_spec().description.input[0].name\n",
    "output_name = model.get_spec().description.output[0].name\n",
    "pred = model.predict({input_name: Image.fromarray(input)})[output_name]\n"
   ]
  },
  {
   "cell_type": "code",
   "execution_count": 2,
   "metadata": {},
   "outputs": [
    {
     "name": "stdout",
     "output_type": "stream",
     "text": [
      "218.875\n"
     ]
    }
   ],
   "source": [
    "diff = np.abs(pred - output)\n",
    "print(np.max(diff))"
   ]
  },
  {
   "cell_type": "code",
   "execution_count": 3,
   "metadata": {},
   "outputs": [
    {
     "data": {
      "text/plain": [
       "(1572864, 524288, 1024, 1)"
      ]
     },
     "execution_count": 3,
     "metadata": {},
     "output_type": "execute_result"
    }
   ],
   "source": [
    "import torch\n",
    "\n",
    "x = torch.randn(1, 3, 512, 1024)\n",
    "\n",
    "x.stride()"
   ]
  }
 ],
 "metadata": {
  "kernelspec": {
   "display_name": "libtorch",
   "language": "python",
   "name": "python3"
  },
  "language_info": {
   "codemirror_mode": {
    "name": "ipython",
    "version": 3
   },
   "file_extension": ".py",
   "mimetype": "text/x-python",
   "name": "python",
   "nbconvert_exporter": "python",
   "pygments_lexer": "ipython3",
   "version": "3.10.14"
  }
 },
 "nbformat": 4,
 "nbformat_minor": 2
}
